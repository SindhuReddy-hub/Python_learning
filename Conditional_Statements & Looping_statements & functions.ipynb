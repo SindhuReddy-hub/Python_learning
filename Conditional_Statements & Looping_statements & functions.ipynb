{
 "cells": [
  {
   "cell_type": "code",
   "execution_count": 3,
   "id": "65be8539",
   "metadata": {},
   "outputs": [
    {
     "name": "stdout",
     "output_type": "stream",
     "text": [
      "True\n"
     ]
    }
   ],
   "source": [
    "#conditional statements - if, elif, else\n",
    "#simple if\n",
    "#INDENTATION IS ALWAYS FOUR SPACES IN PYTHON\n",
    "\n",
    "x=5\n",
    "if x==5:\n",
    "    print(True)\n",
    "if x>30:\n",
    "    print(\"yes\")\n"
   ]
  },
  {
   "cell_type": "code",
   "execution_count": 5,
   "id": "d1d25f73",
   "metadata": {},
   "outputs": [
    {
     "name": "stdout",
     "output_type": "stream",
     "text": [
      "no\n"
     ]
    }
   ],
   "source": [
    "x=1\n",
    "if x>5:\n",
    "    print(\"yes\")\n",
    "else:\n",
    "    print(\"no\")"
   ]
  },
  {
   "cell_type": "code",
   "execution_count": null,
   "id": "4b90e26d",
   "metadata": {},
   "outputs": [],
   "source": [
    "#Multiple if's\n",
    "a=10\n",
    "if a>2:\n",
    "    print(\"1\")\n",
    "if a>3:\n",
    "    print(\"1\")"
   ]
  },
  {
   "cell_type": "code",
   "execution_count": 6,
   "id": "a2f7f63a",
   "metadata": {},
   "outputs": [
    {
     "name": "stdout",
     "output_type": "stream",
     "text": [
      "eleif\n"
     ]
    }
   ],
   "source": [
    "#elif=else+if\n",
    "\n",
    "y=300\n",
    "if y==30:\n",
    "    print(\"2\")\n",
    "elif y>30:\n",
    "    print(\"eleif\")\n",
    "else:\n",
    "    print(\"none\")"
   ]
  },
  {
   "cell_type": "code",
   "execution_count": null,
   "id": "8c7d6c9b",
   "metadata": {},
   "outputs": [],
   "source": [
    "#LOOPING STATEMENTS: FOR , WHILE(USED FOR ITERATIONS)\n",
    "#FOR lOOP\n",
    "#SYNTAX\n",
    "# FOR NAME_OF_VARIABLE IN RANGE(START,STOP):\n",
    "    #OPERATION\n",
    "#RANGE FUNCTION:(START,STOP,STEP) THIS IS ONLY FOR NUMBERS not the float\n"
   ]
  },
  {
   "cell_type": "code",
   "execution_count": 10,
   "id": "5d0eb546",
   "metadata": {},
   "outputs": [
    {
     "name": "stdout",
     "output_type": "stream",
     "text": [
      "[1, 2, 3, 4, 5, 6, 7, 8, 9]\n",
      "1 2 3 4 5 6 7 8 9 10 11 12 13 14 15 16 17 18 19 "
     ]
    }
   ],
   "source": [
    "x=list(range(1,10))#AS PER SLICING IT WILL NOT INCLUDE 10\n",
    "print(x)\n",
    "for x in range(1,20):\n",
    "    print(x,end=\" \")# to print in the same line\n",
    "    "
   ]
  },
  {
   "cell_type": "code",
   "execution_count": 12,
   "id": "9fa79f90",
   "metadata": {},
   "outputs": [
    {
     "name": "stdout",
     "output_type": "stream",
     "text": [
      "yes\n"
     ]
    }
   ],
   "source": [
    "lst=[22,33,44,55,66,77]\n",
    "for x in lst:\n",
    "    if x==66:\n",
    "        print(\"yes\")"
   ]
  },
  {
   "cell_type": "code",
   "execution_count": 14,
   "id": "fb4656c9",
   "metadata": {},
   "outputs": [
    {
     "name": "stdout",
     "output_type": "stream",
     "text": [
      "22 33 44 55 66 77 "
     ]
    }
   ],
   "source": [
    "lst=[22,33,44,55,66,77]\n",
    "for x in lst:\n",
    "    print(x,end=\" \")"
   ]
  },
  {
   "cell_type": "code",
   "execution_count": 15,
   "id": "dacd14c1",
   "metadata": {},
   "outputs": [
    {
     "name": "stdout",
     "output_type": "stream",
     "text": [
      "s i n d h u "
     ]
    }
   ],
   "source": [
    "name=\"sindhu\"\n",
    "for x in name:\n",
    "    print(x,end=\" \")"
   ]
  },
  {
   "cell_type": "code",
   "execution_count": 16,
   "id": "b74c34a6",
   "metadata": {},
   "outputs": [],
   "source": [
    "#WHILE LOOP :\n",
    "#SYNATAX WHILE(CONDITION IS TRUE):\n",
    "        #OPERATION\n",
    "#WHILE LOOP CRASHES THE COMPILOR AS UNTIL THE CONTIION IS TRUE IT WILL BE RUNNING"
   ]
  },
  {
   "cell_type": "code",
   "execution_count": 18,
   "id": "f7d9cf16",
   "metadata": {},
   "outputs": [
    {
     "name": "stdout",
     "output_type": "stream",
     "text": [
      "yes\n"
     ]
    }
   ],
   "source": [
    "a=10\n",
    "while a>3:\n",
    "    print(\"yes\")\n",
    "    break"
   ]
  },
  {
   "cell_type": "code",
   "execution_count": 21,
   "id": "68fda585",
   "metadata": {},
   "outputs": [
    {
     "name": "stdout",
     "output_type": "stream",
     "text": [
      "0 1 2 3 4 "
     ]
    }
   ],
   "source": [
    "i=0\n",
    "while i<5:\n",
    "    print(i,end=\" \")\n",
    "    i+=1"
   ]
  },
  {
   "cell_type": "code",
   "execution_count": 22,
   "id": "c54f3dd0",
   "metadata": {},
   "outputs": [],
   "source": [
    "#FUNCTIONS\n",
    "#INPUT - TAKE THE INPUT FROM THE USER\n"
   ]
  },
  {
   "cell_type": "code",
   "execution_count": 25,
   "id": "f0452436",
   "metadata": {},
   "outputs": [
    {
     "name": "stdout",
     "output_type": "stream",
     "text": [
      "enter your name sindhu\n"
     ]
    }
   ],
   "source": [
    "a=input(\"enter your name \")"
   ]
  },
  {
   "cell_type": "code",
   "execution_count": null,
   "id": "8c5e9eca",
   "metadata": {},
   "outputs": [],
   "source": [
    "#functions --block of code\n",
    "\n",
    "#Inbuilt : pre defined in python we just call and use example: range\n",
    "#user defined : we can design our own designs\n",
    "#Lambda"
   ]
  },
  {
   "cell_type": "code",
   "execution_count": 26,
   "id": "f5ad6215",
   "metadata": {},
   "outputs": [],
   "source": [
    "#inbuild\n",
    "a=[1,2,3]\n",
    "a.append(33)"
   ]
  },
  {
   "cell_type": "code",
   "execution_count": 27,
   "id": "9cc85fe4",
   "metadata": {},
   "outputs": [],
   "source": [
    "#user defined\n",
    "\n",
    "#def Name_of_the_function(arg1,arg2): we can pass arguments\n",
    "    #operation\n",
    "    #return ---return the statement output"
   ]
  },
  {
   "cell_type": "code",
   "execution_count": 30,
   "id": "62d76670",
   "metadata": {},
   "outputs": [],
   "source": [
    "def sindhu():\n",
    "    return print(\"hey this is sindhu\")\n",
    "    "
   ]
  },
  {
   "cell_type": "code",
   "execution_count": 32,
   "id": "ac9e0ce8",
   "metadata": {},
   "outputs": [
    {
     "name": "stdout",
     "output_type": "stream",
     "text": [
      "hey this is sindhu\n",
      "None\n"
     ]
    }
   ],
   "source": [
    "print(sindhu())"
   ]
  },
  {
   "cell_type": "code",
   "execution_count": 35,
   "id": "0b95b936",
   "metadata": {},
   "outputs": [
    {
     "name": "stdout",
     "output_type": "stream",
     "text": [
      "30\n"
     ]
    }
   ],
   "source": [
    "def add_numbers(x,y):\n",
    "    z=x+y\n",
    "    return z\n",
    "\n",
    "z=add_numbers(10,20)\n",
    "print(z)"
   ]
  },
  {
   "cell_type": "code",
   "execution_count": 37,
   "id": "dc7c15b5",
   "metadata": {},
   "outputs": [
    {
     "data": {
      "text/plain": [
       "700"
      ]
     },
     "execution_count": 37,
     "metadata": {},
     "output_type": "execute_result"
    }
   ],
   "source": [
    "#Lambda function deals with normal mathematics expression\n",
    "\n",
    "#syntax lambda arguments:expression\n",
    "#lambda functions are anonymous functions\n",
    "y=lambda x:x*10\n",
    "y(70)"
   ]
  },
  {
   "cell_type": "code",
   "execution_count": 38,
   "id": "33180ccc",
   "metadata": {},
   "outputs": [
    {
     "data": {
      "text/plain": [
       "21"
      ]
     },
     "execution_count": 38,
     "metadata": {},
     "output_type": "execute_result"
    }
   ],
   "source": [
    "c=lambda q,w,r: (q*w)+r\n",
    "c(5,3,6)"
   ]
  },
  {
   "cell_type": "code",
   "execution_count": null,
   "id": "b7acb04b",
   "metadata": {},
   "outputs": [],
   "source": []
  }
 ],
 "metadata": {
  "kernelspec": {
   "display_name": "Python 3 (ipykernel)",
   "language": "python",
   "name": "python3"
  },
  "language_info": {
   "codemirror_mode": {
    "name": "ipython",
    "version": 3
   },
   "file_extension": ".py",
   "mimetype": "text/x-python",
   "name": "python",
   "nbconvert_exporter": "python",
   "pygments_lexer": "ipython3",
   "version": "3.10.9"
  }
 },
 "nbformat": 4,
 "nbformat_minor": 5
}
