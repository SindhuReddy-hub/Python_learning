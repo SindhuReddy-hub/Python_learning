{
 "cells": [
  {
   "cell_type": "code",
   "execution_count": null,
   "id": "62386240",
   "metadata": {},
   "outputs": [],
   "source": [
    "####DATATYPES\n",
    "\n",
    "*MUTUABLE --LIST,DICTIONARY,SET(allowing us to make changes in the varibale)\n",
    "*IMMUTABLE -- TUPLE , STRING (after the declaration we cannot do any changes to the datatypes once declaratin is doen)"
   ]
  },
  {
   "cell_type": "code",
   "execution_count": null,
   "id": "a353ecb9",
   "metadata": {},
   "outputs": [],
   "source": [
    "#SET DATATYPLE ALWAYS IN {}\n",
    "#SET DO NOT TAKE DUPLICATE VALUES\n",
    "#UN ORDER COLLECTION OF THE DATA\n",
    "#WE CANNOT DO SLICING OR INDEXING IN THE SET\n",
    "\n",
    "SET={}"
   ]
  },
  {
   "cell_type": "code",
   "execution_count": null,
   "id": "9a573148",
   "metadata": {},
   "outputs": [],
   "source": [
    "#DICTIONARY: CURRLY BRACKET ALWAYS EXISTS IN {KEY:VALUE PAIR}\n",
    "\n",
    "DICT={\n",
    "    \n",
    "    'A'='APPLE',\n",
    "    'B':\"BALL\",\n",
    "    'C':'CAT',\n",
    "    'N':123\n",
    "}"
   ]
  },
  {
   "cell_type": "code",
   "execution_count": null,
   "id": "a0f9e6dd",
   "metadata": {},
   "outputs": [],
   "source": [
    "#Indexing - fetching single calue at a time\n",
    "a=[55,2,63,48] # index of element or address of the element\n",
    "\n",
    "#INDEX OF THE ELEMENT START WITH 0(ZERO)\n",
    "55=0\n",
    "2=1\n",
    "63-2\n",
    "48-3\n",
    "#NEGATIVE INDEX ALSO WE HAVE\n",
    "#start with right side with -1\n",
    "d=[1,2,3]\n",
    "3=-1\n",
    "2=-2\n",
    "1=-3"
   ]
  },
  {
   "cell_type": "code",
   "execution_count": null,
   "id": "013b448c",
   "metadata": {},
   "outputs": [],
   "source": [
    "#SLICING- FECTHING MORE THAN ONE ELEMENT AT A TIME IN INDEX WE CAN GET ONLY ONE ELEMENT\n",
    "#SYNTAX , [START:STOP:STEP]\n",
    "\n",
    "VAR=[1,2,3,4,5,6]\n",
    "\n",
    "VAR[0:3]\n",
    "\n",
    "#THIS WILL NOT INCLUDE THE STOP ELEMENT WE NEED TO INCLUDE STEP\n",
    "we need to get last element give plus one"
   ]
  },
  {
   "cell_type": "code",
   "execution_count": 25,
   "id": "4b5d49e1",
   "metadata": {},
   "outputs": [
    {
     "data": {
      "text/plain": [
       "[1, 2, 3]"
      ]
     },
     "execution_count": 25,
     "metadata": {},
     "output_type": "execute_result"
    }
   ],
   "source": [
    "VAR=[1,2,3,4,5,6]\n",
    "\n",
    "VAR[0:3]"
   ]
  },
  {
   "cell_type": "code",
   "execution_count": 26,
   "id": "e38a150e",
   "metadata": {},
   "outputs": [
    {
     "data": {
      "text/plain": [
       "[1, 3, 5]"
      ]
     },
     "execution_count": 26,
     "metadata": {},
     "output_type": "execute_result"
    }
   ],
   "source": [
    "VAR[0:7:2] #STEPING TWO LIKE FOR R=2 TO LR STEP 2 "
   ]
  },
  {
   "cell_type": "code",
   "execution_count": null,
   "id": "d22736cd",
   "metadata": {},
   "outputs": [],
   "source": []
  },
  {
   "cell_type": "code",
   "execution_count": 13,
   "id": "0520bbde",
   "metadata": {},
   "outputs": [],
   "source": [
    "a=[55,2,63,48]"
   ]
  },
  {
   "cell_type": "code",
   "execution_count": 14,
   "id": "5640f304",
   "metadata": {},
   "outputs": [
    {
     "data": {
      "text/plain": [
       "55"
      ]
     },
     "execution_count": 14,
     "metadata": {},
     "output_type": "execute_result"
    }
   ],
   "source": [
    "a[0]"
   ]
  },
  {
   "cell_type": "code",
   "execution_count": 15,
   "id": "f1a2d4a3",
   "metadata": {},
   "outputs": [],
   "source": [
    "#NEGATIVE INDEX\n",
    "d=[1,2,3]"
   ]
  },
  {
   "cell_type": "code",
   "execution_count": null,
   "id": "5e33b892",
   "metadata": {},
   "outputs": [],
   "source": []
  },
  {
   "cell_type": "code",
   "execution_count": null,
   "id": "5ec44b41",
   "metadata": {},
   "outputs": [],
   "source": [
    "#LIST: WILL HAVE SQUARE BRACKETS\n",
    "[]\n",
    "CAN INCLUDE  ALL THE DATATYPES\n",
    "a=[1,2,\"HELLO\",8.9,True]"
   ]
  },
  {
   "cell_type": "code",
   "execution_count": 2,
   "id": "a016df93",
   "metadata": {},
   "outputs": [],
   "source": [
    "c=[23,2,4,8,9]"
   ]
  },
  {
   "cell_type": "code",
   "execution_count": 3,
   "id": "c0642e93",
   "metadata": {},
   "outputs": [
    {
     "data": {
      "text/plain": [
       "9"
      ]
     },
     "execution_count": 3,
     "metadata": {},
     "output_type": "execute_result"
    }
   ],
   "source": [
    "#if i press c. TAB then i get all the options\n",
    "c.pop()"
   ]
  },
  {
   "cell_type": "code",
   "execution_count": 4,
   "id": "ff93143e",
   "metadata": {},
   "outputs": [
    {
     "data": {
      "text/plain": [
       "[23, 2, 4, 8]"
      ]
     },
     "execution_count": 4,
     "metadata": {},
     "output_type": "execute_result"
    }
   ],
   "source": [
    "c"
   ]
  },
  {
   "cell_type": "code",
   "execution_count": 5,
   "id": "30b659cf",
   "metadata": {},
   "outputs": [],
   "source": [
    "c.append(22)"
   ]
  },
  {
   "cell_type": "code",
   "execution_count": 6,
   "id": "ac035f26",
   "metadata": {},
   "outputs": [
    {
     "data": {
      "text/plain": [
       "[23, 2, 4, 8, 22]"
      ]
     },
     "execution_count": 6,
     "metadata": {},
     "output_type": "execute_result"
    }
   ],
   "source": [
    "c"
   ]
  },
  {
   "cell_type": "code",
   "execution_count": null,
   "id": "69913399",
   "metadata": {},
   "outputs": [],
   "source": []
  },
  {
   "cell_type": "code",
   "execution_count": null,
   "id": "cfb7dae5",
   "metadata": {},
   "outputs": [],
   "source": []
  },
  {
   "cell_type": "code",
   "execution_count": 1,
   "id": "2142abbb",
   "metadata": {},
   "outputs": [
    {
     "name": "stdout",
     "output_type": "stream",
     "text": [
      "10\n",
      "a\n"
     ]
    }
   ],
   "source": [
    "a=10\n",
    "print(a)\n",
    "print('a')"
   ]
  },
  {
   "cell_type": "code",
   "execution_count": null,
   "id": "0030b3ba",
   "metadata": {},
   "outputs": [],
   "source": [
    "########TUPLE\n",
    "\n",
    "#ARE ALWAYS INSIDE ()\n",
    "# IT CAN INCUDE ALL KIND OF DATATYPES "
   ]
  },
  {
   "cell_type": "code",
   "execution_count": 21,
   "id": "a617133a",
   "metadata": {},
   "outputs": [],
   "source": [
    "abc=(1,2,\"SINDHU\",9.0,True)"
   ]
  },
  {
   "cell_type": "code",
   "execution_count": 23,
   "id": "58a8c6aa",
   "metadata": {},
   "outputs": [
    {
     "data": {
      "text/plain": [
       "1"
      ]
     },
     "execution_count": 23,
     "metadata": {},
     "output_type": "execute_result"
    }
   ],
   "source": [
    "abc[0]"
   ]
  },
  {
   "cell_type": "code",
   "execution_count": 24,
   "id": "090e4a69",
   "metadata": {},
   "outputs": [
    {
     "ename": "AttributeError",
     "evalue": "'tuple' object has no attribute 'pop'",
     "output_type": "error",
     "traceback": [
      "\u001b[1;31m---------------------------------------------------------------------------\u001b[0m",
      "\u001b[1;31mAttributeError\u001b[0m                            Traceback (most recent call last)",
      "Cell \u001b[1;32mIn[24], line 1\u001b[0m\n\u001b[1;32m----> 1\u001b[0m \u001b[43mabc\u001b[49m\u001b[38;5;241;43m.\u001b[39;49m\u001b[43mpop\u001b[49m()\n",
      "\u001b[1;31mAttributeError\u001b[0m: 'tuple' object has no attribute 'pop'"
     ]
    }
   ],
   "source": [
    "abc.pop()"
   ]
  },
  {
   "cell_type": "code",
   "execution_count": 32,
   "id": "7acc59f4",
   "metadata": {},
   "outputs": [],
   "source": [
    "seet={1,\"TRUE\",1}"
   ]
  },
  {
   "cell_type": "code",
   "execution_count": 33,
   "id": "5426a95b",
   "metadata": {},
   "outputs": [
    {
     "ename": "TypeError",
     "evalue": "'set' object is not subscriptable",
     "output_type": "error",
     "traceback": [
      "\u001b[1;31m---------------------------------------------------------------------------\u001b[0m",
      "\u001b[1;31mTypeError\u001b[0m                                 Traceback (most recent call last)",
      "Cell \u001b[1;32mIn[33], line 1\u001b[0m\n\u001b[1;32m----> 1\u001b[0m \u001b[43mseet\u001b[49m\u001b[43m[\u001b[49m\u001b[38;5;241;43m0\u001b[39;49m\u001b[43m]\u001b[49m\n",
      "\u001b[1;31mTypeError\u001b[0m: 'set' object is not subscriptable"
     ]
    }
   ],
   "source": [
    "seet[0]"
   ]
  },
  {
   "cell_type": "code",
   "execution_count": 41,
   "id": "3ee70b0c",
   "metadata": {},
   "outputs": [],
   "source": [
    "DICT={\n",
    "    \n",
    "    'A':'APPLE',\n",
    "    'B':\"BALL\",\n",
    "    'C':'CAT',\n",
    "    'N':123,\n",
    "    'LIST':[1,3,45]\n",
    "}"
   ]
  },
  {
   "cell_type": "code",
   "execution_count": 42,
   "id": "68fa8240",
   "metadata": {},
   "outputs": [
    {
     "data": {
      "text/plain": [
       "{'A': 'APPLE', 'B': 'BALL', 'C': 'CAT', 'N': 123, 'LIST': [1, 3, 45]}"
      ]
     },
     "execution_count": 42,
     "metadata": {},
     "output_type": "execute_result"
    }
   ],
   "source": [
    "DICT"
   ]
  },
  {
   "cell_type": "code",
   "execution_count": 44,
   "id": "43f7c2a4",
   "metadata": {},
   "outputs": [
    {
     "data": {
      "text/plain": [
       "dict_keys(['A', 'B', 'C', 'N', 'LIST'])"
      ]
     },
     "execution_count": 44,
     "metadata": {},
     "output_type": "execute_result"
    }
   ],
   "source": [
    "DICT.keys()"
   ]
  },
  {
   "cell_type": "code",
   "execution_count": 45,
   "id": "faca8208",
   "metadata": {},
   "outputs": [
    {
     "data": {
      "text/plain": [
       "dict_values(['APPLE', 'BALL', 'CAT', 123, [1, 3, 45]])"
      ]
     },
     "execution_count": 45,
     "metadata": {},
     "output_type": "execute_result"
    }
   ],
   "source": [
    "DICT.values()"
   ]
  },
  {
   "cell_type": "code",
   "execution_count": 46,
   "id": "0a60bdf8",
   "metadata": {},
   "outputs": [
    {
     "data": {
      "text/plain": [
       "'APPLE'"
      ]
     },
     "execution_count": 46,
     "metadata": {},
     "output_type": "execute_result"
    }
   ],
   "source": [
    "DICT['A']"
   ]
  },
  {
   "cell_type": "code",
   "execution_count": null,
   "id": "ce67e718",
   "metadata": {},
   "outputs": [],
   "source": []
  }
 ],
 "metadata": {
  "kernelspec": {
   "display_name": "Python 3 (ipykernel)",
   "language": "python",
   "name": "python3"
  },
  "language_info": {
   "codemirror_mode": {
    "name": "ipython",
    "version": 3
   },
   "file_extension": ".py",
   "mimetype": "text/x-python",
   "name": "python",
   "nbconvert_exporter": "python",
   "pygments_lexer": "ipython3",
   "version": "3.10.9"
  }
 },
 "nbformat": 4,
 "nbformat_minor": 5
}
