{
 "cells": [
  {
   "cell_type": "code",
   "execution_count": null,
   "id": "8888c163",
   "metadata": {},
   "outputs": [],
   "source": [
    "#######Operators#############\n",
    "ARTHMETIC OPERATOR: +,-,*,/,%\n",
    "\n",
    "    %MODULUS WILL ALWAYS GIVE REMINDERS LIKE (10%5) THE REMINDER IS 0\n",
    "\n",
    "ASSIGNMENT OPERATORS - +,+=,-=,*=,/=\n",
    "\n",
    "COMPARISION OPERATORS - =,==,<=,>=,<>\n",
    "\n",
    "note: single = is used for assigning and doubel for comparing the variables\n",
    "\n",
    "    LOGICAL OPERATORS- AND ,OR, NOT\n",
    "    \n",
    "    IDENTITY OPERATORS - IS, IS NOT\n",
    "    MEMBERSHIP OPERATOR - IN , NOT IN"
   ]
  },
  {
   "cell_type": "code",
   "execution_count": null,
   "id": "41cea126",
   "metadata": {},
   "outputs": [],
   "source": [
    "X=X+10\n",
    "X+=10\n",
    "TWO OF WRITING THE INCREMENT\n",
    "C=C*100\n",
    "C*=100"
   ]
  },
  {
   "cell_type": "code",
   "execution_count": 5,
   "id": "c892ae73",
   "metadata": {},
   "outputs": [
    {
     "ename": "SyntaxError",
     "evalue": "cannot assign to literal here. Maybe you meant '==' instead of '='? (774190207.py, line 1)",
     "output_type": "error",
     "traceback": [
      "\u001b[1;36m  Cell \u001b[1;32mIn[5], line 1\u001b[1;36m\u001b[0m\n\u001b[1;33m    'ABD'='ABD'\u001b[0m\n\u001b[1;37m    ^\u001b[0m\n\u001b[1;31mSyntaxError\u001b[0m\u001b[1;31m:\u001b[0m cannot assign to literal here. Maybe you meant '==' instead of '='?\n"
     ]
    }
   ],
   "source": [
    "'ABD'='ABD'"
   ]
  },
  {
   "cell_type": "code",
   "execution_count": null,
   "id": "60e0caea",
   "metadata": {},
   "outputs": [],
   "source": []
  }
 ],
 "metadata": {
  "kernelspec": {
   "display_name": "Python 3 (ipykernel)",
   "language": "python",
   "name": "python3"
  },
  "language_info": {
   "codemirror_mode": {
    "name": "ipython",
    "version": 3
   },
   "file_extension": ".py",
   "mimetype": "text/x-python",
   "name": "python",
   "nbconvert_exporter": "python",
   "pygments_lexer": "ipython3",
   "version": "3.10.9"
  }
 },
 "nbformat": 4,
 "nbformat_minor": 5
}
