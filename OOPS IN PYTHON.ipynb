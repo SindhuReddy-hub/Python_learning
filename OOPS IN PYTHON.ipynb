{
 "cells": [
  {
   "cell_type": "code",
   "execution_count": null,
   "id": "9d75817f",
   "metadata": {},
   "outputs": [],
   "source": [
    "#OOPS CONCEPTS\n",
    "#WHY OPPS CONCEPT\n",
    "#OBJECT ORIENTED PROGRAMMING\n",
    "#EXAMPLE: IF WE HAVE 100 LINE OF CODE IT WOURLD BE DIFFUCLT TO DEBUG AND FIX THE ISSUE WHEN WE WORKING IN AGILE PROCESS\n",
    "# TO TACKLE THIS OOPS CONCEPT CAME INTO PICTURE\n",
    "#STRUCTURING OUR PROGRAM SO OOPS CAME\n"
   ]
  },
  {
   "cell_type": "code",
   "execution_count": null,
   "id": "44f6cab1",
   "metadata": {},
   "outputs": [],
   "source": [
    "#OOPS REVOLVE AROUND\n",
    "#*CLASS\n",
    "#*OBJECT\n"
   ]
  },
  {
   "cell_type": "code",
   "execution_count": null,
   "id": "7c40ad0f",
   "metadata": {},
   "outputs": [],
   "source": [
    "#two important pillars in OOps in python\n",
    "#inheritance and encapsulation are *"
   ]
  },
  {
   "cell_type": "code",
   "execution_count": null,
   "id": "2e1979c9",
   "metadata": {},
   "outputs": [],
   "source": []
  }
 ],
 "metadata": {
  "kernelspec": {
   "display_name": "Python 3 (ipykernel)",
   "language": "python",
   "name": "python3"
  },
  "language_info": {
   "codemirror_mode": {
    "name": "ipython",
    "version": 3
   },
   "file_extension": ".py",
   "mimetype": "text/x-python",
   "name": "python",
   "nbconvert_exporter": "python",
   "pygments_lexer": "ipython3",
   "version": "3.10.9"
  }
 },
 "nbformat": 4,
 "nbformat_minor": 5
}
