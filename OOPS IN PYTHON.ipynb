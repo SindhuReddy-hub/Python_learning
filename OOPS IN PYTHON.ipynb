{
 "cells": [
  {
   "cell_type": "code",
   "execution_count": null,
   "id": "4b62d9ef",
   "metadata": {},
   "outputs": [],
   "source": [
    "#OOPS CONCEPTS\n",
    "#WHY OPPS CONCEPT\n",
    "#OBJECT ORIENTED PROGRAMMING\n",
    "#EXAMPLE: IF WE HAVE 100 LINE OF CODE IT WOURLD BE DIFFUCLT TO DEBUG AND FIX THE ISSUE WHEN WE WORKING IN AGILE PROCESS\n",
    "# TO TACKLE THIS OOPS CONCEPT CAME INTO PICTURE\n",
    "#STRUCTURING OUR PROGRAM SO OOPS CAME\n",
    "#STRUCTURE OF CODE (CUT INTO PIECES AND WORK)\n",
    "#two important pillars in OOps in python\n",
    "#inheritance and encapsulation are *"
   ]
  },
  {
   "cell_type": "code",
   "execution_count": null,
   "id": "f0cad8d3",
   "metadata": {},
   "outputs": [],
   "source": [
    "#OOPS REVOLVE AROUND\n",
    "#*CLASS - BLUE PRINT OF ANY OBJECT\n",
    "#*OBJECT - INSTANCE OF THE CLASS\n",
    "#we cannot keep the class empty we have do some operation in the class\n"
   ]
  },
  {
   "cell_type": "code",
   "execution_count": null,
   "id": "601070b7",
   "metadata": {},
   "outputs": [],
   "source": [
    "EXAMPLE: CAR\n",
    "    BRANDS: BMW,AUDI,MAHINDRA,SUZUKI\n",
    "\n",
    "#CARS ABOVE SOME COMMON FEATURES ALONG WITH SOME DIFFERRENT FEATURES \n",
    "CAR IS THE CLASS AND OBJECTS ARE BRANDS\n",
    "\n",
    "EXAMPLE: ANIMALS\n",
    "    TYPE:CAT,DOG,LION\n",
    "#ALL THREE HAVE COMMON FEATURES LIKE 4 LEGS, 2 EYES AND SOME DIFFERENT FEATURES\n"
   ]
  },
  {
   "cell_type": "code",
   "execution_count": null,
   "id": "3126bf5d",
   "metadata": {},
   "outputs": [],
   "source": [
    "#CLASS \n",
    "#SYNTAX: CLASS NAME_OF_THE_CLASS:\n",
    "            #OPERATION:\n",
    "#PASS keyword to you can keep the class empty\n",
    "#this is a place holder when we have good feature to define that class\n",
    "class animal:\n",
    "    pass\n",
    "\n",
    "class Car:\n",
    "    x=\"BWM\"\n",
    "    pass"
   ]
  },
  {
   "cell_type": "code",
   "execution_count": null,
   "id": "c1776c14",
   "metadata": {},
   "outputs": [],
   "source": [
    "#OBJECTS\n",
    "#OBJECCTS ARE ALWAYS BUILD FROM THE CLASS(DERIVED FROM THE CLASSES)\n",
    "#SYNTAX: NAME_OF_OBJECT= CLASS_NAME()\n",
    "#from single class we can make infinite number of objects\n",
    "#when we use any functions in the class we have to use (SELF) ARGUEMTNS IN FUCNTIONS\n",
    "#EXAMLE:\n",
    "#CLASS CAR:\n",
    " #   DEF FUCN(SELF):\n",
    "  #      PRITN(S)\n",
    "\n",
    "#SELF : self keyword acts as an object\n",
    "#self keyword is replaced with the object of the class and get the output value\n",
    "#if we do not use self keyword we get error\n",
    "#OBJECT CAN ONLY REPLACE ANOTHER OBJECT\n",
    "#any function we have to give self keyworkd *********\n",
    "#def abc(Self)"
   ]
  },
  {
   "cell_type": "code",
   "execution_count": 4,
   "id": "eba682f9",
   "metadata": {},
   "outputs": [
    {
     "name": "stdout",
     "output_type": "stream",
     "text": [
      "dog\n"
     ]
    }
   ],
   "source": [
    "class Animals:\n",
    "    a=\"dog\"\n",
    "\n",
    "ani=Animals()\n",
    "print(ani.a)"
   ]
  },
  {
   "cell_type": "code",
   "execution_count": 14,
   "id": "a8d125b3",
   "metadata": {},
   "outputs": [],
   "source": [
    "class Cartoon:\n",
    "    a=10\n",
    "    b=20\n",
    "    def entertainment(self):\n",
    "        print(\" Welcome to the class\")"
   ]
  },
  {
   "cell_type": "code",
   "execution_count": 15,
   "id": "1fcf2eb2",
   "metadata": {},
   "outputs": [
    {
     "name": "stdout",
     "output_type": "stream",
     "text": [
      "10\n",
      "20\n",
      " Welcome to the class\n"
     ]
    }
   ],
   "source": [
    "#now creating the object\n",
    "cart=Cartoon()\n",
    "print(cart.a)\n",
    "print(cart.b)\n",
    "cart.entertainment()"
   ]
  },
  {
   "cell_type": "code",
   "execution_count": 16,
   "id": "aa447bd3",
   "metadata": {},
   "outputs": [],
   "source": [
    "#CONSTRUCTORS*****************************************\n",
    "#__INIT__(__int__)\n",
    "#declaration of all variables at one place we can do \n",
    "\n",
    "#if you are using a constructor , you should give the value when you call the object\n",
    "#"
   ]
  },
  {
   "cell_type": "code",
   "execution_count": 19,
   "id": "f4703d50",
   "metadata": {},
   "outputs": [],
   "source": [
    "class Car:\n",
    "    def __init__(self,a,b,c,d):\n",
    "        self.a=a\n",
    "        self.b=b\n",
    "        self.c=c\n",
    "        self.d=d\n",
    "     \n",
    "        \n",
    "        "
   ]
  },
  {
   "cell_type": "code",
   "execution_count": 23,
   "id": "3088e0bb",
   "metadata": {},
   "outputs": [],
   "source": [
    "Audi=Car(1,2,3,4)\n",
    "Bwm=Car(5,6,7,\"sindhu\")"
   ]
  },
  {
   "cell_type": "code",
   "execution_count": 24,
   "id": "da785677",
   "metadata": {},
   "outputs": [
    {
     "data": {
      "text/plain": [
       "'sindhu'"
      ]
     },
     "execution_count": 24,
     "metadata": {},
     "output_type": "execute_result"
    }
   ],
   "source": [
    "Bwm.d"
   ]
  },
  {
   "cell_type": "code",
   "execution_count": 26,
   "id": "e54f5af6",
   "metadata": {},
   "outputs": [],
   "source": [
    "#**************************************************************\n",
    "\n",
    "class Employee:\n",
    "    def __init__(self,name,gender,salary):\n",
    "        self.name=name\n",
    "        self.gender=gender\n",
    "        self.salary=salary\n",
    "    \n",
    "    def show(self):\n",
    "        return(self.name,self.gender,self.salary)\n",
    "\n",
    "Emp1=Employee('sindhu','Female','5000000')\n",
    "Emp2=Employee('Opps','Male',\"900000\")"
   ]
  },
  {
   "cell_type": "code",
   "execution_count": 29,
   "id": "434ddde7",
   "metadata": {},
   "outputs": [
    {
     "data": {
      "text/plain": [
       "('sindhu', 'Female', '5000000')"
      ]
     },
     "execution_count": 29,
     "metadata": {},
     "output_type": "execute_result"
    }
   ],
   "source": [
    "Emp1.show()"
   ]
  },
  {
   "cell_type": "code",
   "execution_count": 28,
   "id": "a96bf1c4",
   "metadata": {},
   "outputs": [
    {
     "data": {
      "text/plain": [
       "'900000'"
      ]
     },
     "execution_count": 28,
     "metadata": {},
     "output_type": "execute_result"
    }
   ],
   "source": [
    "Emp1.name\n",
    "Emp2.salary"
   ]
  },
  {
   "cell_type": "code",
   "execution_count": 31,
   "id": "c3c80472",
   "metadata": {},
   "outputs": [],
   "source": [
    "#second example\n",
    "class Arthimetic:\n",
    "    def __init__(self,x,y):\n",
    "        self.x=x\n",
    "        self.y=y\n",
    "    def add(self):\n",
    "        return(self.x+self.y)\n",
    "    \n",
    "    def mul(self):\n",
    "        return(self.x*self.y)\n",
    "    "
   ]
  },
  {
   "cell_type": "code",
   "execution_count": 37,
   "id": "6953f0c0",
   "metadata": {},
   "outputs": [],
   "source": [
    "Value=Arthimetic(8,9)"
   ]
  },
  {
   "cell_type": "code",
   "execution_count": 38,
   "id": "5236e36f",
   "metadata": {},
   "outputs": [
    {
     "data": {
      "text/plain": [
       "17"
      ]
     },
     "execution_count": 38,
     "metadata": {},
     "output_type": "execute_result"
    }
   ],
   "source": [
    "Value.add()"
   ]
  },
  {
   "cell_type": "code",
   "execution_count": null,
   "id": "77df37ee",
   "metadata": {},
   "outputs": [],
   "source": [
    "#FOUR PILLAR OF OOPS\n",
    "#- INHERITENCE\n",
    "#-POLYMORPHISM\n",
    "#-ENCAPSULATION\n",
    "#-DATA ABASTRACTION\n"
   ]
  },
  {
   "cell_type": "code",
   "execution_count": null,
   "id": "5cca51c7",
   "metadata": {},
   "outputs": [],
   "source": [
    "#****************INHERITANCE **************************\n",
    "#accquires the properties of different class\n",
    "#tHREE TYPES OF INHERITANCE\n",
    "#SINGLE LEVEL\n",
    "#MULTI LEVEL\n",
    "#MULTIPLE "
   ]
  },
  {
   "cell_type": "code",
   "execution_count": 49,
   "id": "29e17de0",
   "metadata": {},
   "outputs": [],
   "source": [
    "#EXAMPLE OF INHERITANCE*************************\n",
    "class Bike: #Parent class , from which the properties are inherited are called parent class\n",
    "    def speed(self):\n",
    "        print(\"super fast\")\n",
    "    def color(self):\n",
    "        print(\"blue\")\n",
    "class Car(Bike):#child class inheriting the properties of another class\n",
    "    def engine(self):\n",
    "        print(\"engine\")\n",
    "    def suspension(self):\n",
    "        print(\"suspension\")"
   ]
  },
  {
   "cell_type": "code",
   "execution_count": 50,
   "id": "d82d23a7",
   "metadata": {},
   "outputs": [],
   "source": [
    "Bike1=Bike()\n",
    "Audi=Car()"
   ]
  },
  {
   "cell_type": "code",
   "execution_count": 51,
   "id": "10b00067",
   "metadata": {},
   "outputs": [
    {
     "name": "stdout",
     "output_type": "stream",
     "text": [
      "suspension\n"
     ]
    }
   ],
   "source": [
    "Audi.suspension()"
   ]
  },
  {
   "cell_type": "code",
   "execution_count": 52,
   "id": "b6557718",
   "metadata": {},
   "outputs": [
    {
     "name": "stdout",
     "output_type": "stream",
     "text": [
      "super fast\n"
     ]
    }
   ],
   "source": [
    "Bike1.speed()"
   ]
  },
  {
   "cell_type": "code",
   "execution_count": 53,
   "id": "ef381481",
   "metadata": {},
   "outputs": [
    {
     "name": "stdout",
     "output_type": "stream",
     "text": [
      "blue\n"
     ]
    }
   ],
   "source": [
    "#SINGLE LEVEL INHERITANCE \n",
    "Audi.color()"
   ]
  },
  {
   "cell_type": "code",
   "execution_count": 66,
   "id": "7129aef1",
   "metadata": {},
   "outputs": [],
   "source": [
    "#MULTIPLE LEVEL INHERITANCE - ONE PARENT CLASS AND MULTIPLE CHILD CLASSES\n",
    "#EXAMPLE I WE HAVE THREE CLASS A->B->C AND VICE VERSA\n",
    "class Bike: #Parent class , from which the properties are inherited are called parent class\n",
    "    def speed(self):\n",
    "        print(\"super fast\")\n",
    "    def color(self):\n",
    "        print(\"blue\")\n",
    "        \n",
    "class Car(Bike):#child class inheriting the properties of another class\n",
    "    def engine(self):\n",
    "        print(\"engine\")\n",
    "    def suspension(self):\n",
    "        print(\"suspension\")\n",
    "\n",
    "class Truck(Car):\n",
    "    def slow(self):\n",
    "        print(\"slow\")\n",
    "    def heavy(self):\n",
    "        print(heavy)\n",
    "        \n",
    "    \n",
    "    "
   ]
  },
  {
   "cell_type": "code",
   "execution_count": 67,
   "id": "d62ebf6b",
   "metadata": {},
   "outputs": [],
   "source": [
    "Bike1=Bike()\n",
    "Car1=Car()\n",
    "Volvo=Truck()"
   ]
  },
  {
   "cell_type": "code",
   "execution_count": 68,
   "id": "698336bb",
   "metadata": {},
   "outputs": [
    {
     "name": "stdout",
     "output_type": "stream",
     "text": [
      "suspension\n"
     ]
    }
   ],
   "source": [
    "Volvo.suspension()"
   ]
  },
  {
   "cell_type": "code",
   "execution_count": 69,
   "id": "dda03b49",
   "metadata": {},
   "outputs": [],
   "source": [
    "#************************************\n",
    "#MULTIPLE INHERITANCE*********************************\n",
    "\n",
    "#MULTIPLE PARENT CLASS WITH ONE CHILD CLASS\n",
    "\n",
    "class Bike: #Parent class , from which the properties are inherited are called parent class\n",
    "    def speed(self):\n",
    "        print(\"super fast\")\n",
    "    def color(self):\n",
    "        print(\"blue\")\n",
    "        \n",
    "class Car:#child class inheriting the properties of another class\n",
    "    def engine(self):\n",
    "        print(\"engine\")\n",
    "    def suspension(self):\n",
    "        print(\"suspension\")\n",
    "\n",
    "class Truck(Bike,Car):\n",
    "    def slow(self):\n",
    "        print(\"slow\")\n",
    "    def heavy(self):\n",
    "        print(heavy)\n",
    "        \n"
   ]
  },
  {
   "cell_type": "code",
   "execution_count": 72,
   "id": "ff54bbea",
   "metadata": {},
   "outputs": [],
   "source": [
    "Bike1=Bike()\n",
    "Car1=Car()\n",
    "truck=Truck()"
   ]
  },
  {
   "cell_type": "code",
   "execution_count": 73,
   "id": "dfcfabd4",
   "metadata": {},
   "outputs": [
    {
     "name": "stdout",
     "output_type": "stream",
     "text": [
      "slow\n"
     ]
    }
   ],
   "source": [
    "truck.slow()"
   ]
  },
  {
   "cell_type": "code",
   "execution_count": 74,
   "id": "2c337ce3",
   "metadata": {},
   "outputs": [
    {
     "name": "stdout",
     "output_type": "stream",
     "text": [
      "blue\n"
     ]
    }
   ],
   "source": [
    "Bike1.color()"
   ]
  },
  {
   "cell_type": "code",
   "execution_count": 75,
   "id": "8dc68751",
   "metadata": {},
   "outputs": [
    {
     "name": "stdout",
     "output_type": "stream",
     "text": [
      "engine\n"
     ]
    }
   ],
   "source": [
    "Car1.engine()"
   ]
  },
  {
   "cell_type": "code",
   "execution_count": 83,
   "id": "54b70729",
   "metadata": {},
   "outputs": [],
   "source": [
    "#********************************************************\n",
    "#********************************************************\n",
    "\n",
    "#************POLYMORPHISM- HAVING MORE THAN ONE FORM ****************\n",
    "\n",
    "#EXAMPLE: WHEN I AM IN OFFICE: EMPLOYEE, WHEN I AM IN CLASS: STUDENT \n",
    "#DIFFERENT PLACES I AM HAVING DIFFERENT ROLES\n",
    "\n",
    "#TWO MAJOR CONCEPTS\n",
    "#*OPERATOR OVERLOADING (FOR EXAMPLE + CAN BE USED TO ADD THE NUMBERS OR CONCATENATE THE STRINGS)\n",
    "# THIS IS CALLED OPERATOR OVERLADONG BY USING DIFFERNT FORMS\n",
    "\n",
    "#*****METHOD OVERRIDING(if a function is avialable in both class then function from its own class wil be executed)\n",
    "class Animal:\n",
    "    def speak(self):\n",
    "        print(\"bark\")\n",
    "class Human(Animal):\n",
    "    def speak(self):\n",
    "        print(\"talk\")"
   ]
  },
  {
   "cell_type": "code",
   "execution_count": 84,
   "id": "43451276",
   "metadata": {},
   "outputs": [],
   "source": [
    "Max=Human()"
   ]
  },
  {
   "cell_type": "code",
   "execution_count": 85,
   "id": "90585888",
   "metadata": {},
   "outputs": [
    {
     "name": "stdout",
     "output_type": "stream",
     "text": [
      "talk\n"
     ]
    }
   ],
   "source": [
    "Max.speak()"
   ]
  },
  {
   "cell_type": "code",
   "execution_count": 86,
   "id": "12c6df98",
   "metadata": {},
   "outputs": [],
   "source": [
    "#************************************************\n",
    "#ENCAPSULATION*************************************\n",
    "#EXAMPLE: WHEN WE GOING TO OFFICE WE CARRY LAPTIP,CHARGES,CELL,BOX EVERYTHING PACKING IN SINGLE INTO BAG\n",
    "#SINGLE UNIT IS CALLED AS BAG\n",
    "#BINDING EVERYTHING INTO SINGLE UNIT(DATA MEMBERS )\n",
    "#IN THE BELOW CLASS \n",
    "class Animal: #BAG EXAMPLE\n",
    "    a=10 #LAPTOP EXAMPLE\n",
    "    def speak(self): #LUNCH BOX EXAMPLE\n",
    "        print(\"bark\")\n"
   ]
  },
  {
   "cell_type": "code",
   "execution_count": 94,
   "id": "d151e968",
   "metadata": {},
   "outputs": [],
   "source": [
    "#BY USING ENCAPSULATION WE CAN ENCRYPT THE DATA\n",
    "#WE CAN HIDE THE DATA\n",
    "#PRIVATE SPECCIFIER- __ WE CAN HIDE THE DATA\n",
    "class Animal: #BAG EXAMPLE\n",
    "    __a=10 #LAPTOP EXAMPLE\n",
    "    def __speak(self): #LUNCH BOX EXAMPLE\n",
    "        print(\"bark\")\n",
    "#to access this we need a package\n",
    "#a library "
   ]
  },
  {
   "cell_type": "code",
   "execution_count": 95,
   "id": "79715802",
   "metadata": {},
   "outputs": [],
   "source": [
    "max=Animal()"
   ]
  },
  {
   "cell_type": "code",
   "execution_count": 96,
   "id": "f1c80cdb",
   "metadata": {},
   "outputs": [
    {
     "ename": "AttributeError",
     "evalue": "'Animal' object has no attribute 'a'",
     "output_type": "error",
     "traceback": [
      "\u001b[1;31m---------------------------------------------------------------------------\u001b[0m",
      "\u001b[1;31mAttributeError\u001b[0m                            Traceback (most recent call last)",
      "Cell \u001b[1;32mIn[96], line 1\u001b[0m\n\u001b[1;32m----> 1\u001b[0m \u001b[38;5;28;43mmax\u001b[39;49m\u001b[38;5;241;43m.\u001b[39;49m\u001b[43ma\u001b[49m\n",
      "\u001b[1;31mAttributeError\u001b[0m: 'Animal' object has no attribute 'a'"
     ]
    }
   ],
   "source": [
    "max.a"
   ]
  },
  {
   "cell_type": "code",
   "execution_count": 97,
   "id": "a45f5aa2",
   "metadata": {},
   "outputs": [
    {
     "ename": "AttributeError",
     "evalue": "'Animal' object has no attribute 'speak'",
     "output_type": "error",
     "traceback": [
      "\u001b[1;31m---------------------------------------------------------------------------\u001b[0m",
      "\u001b[1;31mAttributeError\u001b[0m                            Traceback (most recent call last)",
      "Cell \u001b[1;32mIn[97], line 1\u001b[0m\n\u001b[1;32m----> 1\u001b[0m \u001b[38;5;28;43mmax\u001b[39;49m\u001b[38;5;241;43m.\u001b[39;49m\u001b[43mspeak\u001b[49m()\n",
      "\u001b[1;31mAttributeError\u001b[0m: 'Animal' object has no attribute 'speak'"
     ]
    }
   ],
   "source": [
    "max.speak()"
   ]
  },
  {
   "cell_type": "code",
   "execution_count": null,
   "id": "836f25fb",
   "metadata": {},
   "outputs": [],
   "source": [
    "#*********************************************\n",
    "#DATA ABSTRACTION\n",
    "#WE CAN SEE OUR VIDEOS FROM LAPTOPS,(SCREEN,MOUSE,TOUCH,KEYBOARD,USB,CHARGING PORT)\n",
    "#WE CANNOT SEE RAM,MOTHER BOARD,CHIP SET,BATTERY\n",
    "#TO HIDE THE UNNCESSARY DETAILS AND SHWO ONLY WHAT IS NECCEASSARY\n",
    "#WHICH IS DATA ABSTRACTION\n",
    "#from abc import ABC, abstractmethod\n",
    "class panda(ABC):\n",
    "    ca\n",
    "    a\n",
    "    ca\n",
    "    c\n",
    "    aca\n",
    "    "
   ]
  }
 ],
 "metadata": {
  "kernelspec": {
   "display_name": "Python 3 (ipykernel)",
   "language": "python",
   "name": "python3"
  },
  "language_info": {
   "codemirror_mode": {
    "name": "ipython",
    "version": 3
   },
   "file_extension": ".py",
   "mimetype": "text/x-python",
   "name": "python",
   "nbconvert_exporter": "python",
   "pygments_lexer": "ipython3",
   "version": "3.10.9"
  }
 },
 "nbformat": 4,
 "nbformat_minor": 5
}
